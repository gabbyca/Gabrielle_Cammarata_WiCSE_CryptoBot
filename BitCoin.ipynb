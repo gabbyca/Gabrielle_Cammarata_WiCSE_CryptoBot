{
 "cells": [
  {
   "cell_type": "code",
   "execution_count": 95,
   "id": "7865d341-2d13-4032-9a6e-6933a58f32ef",
   "metadata": {},
   "outputs": [],
   "source": [
    "import kagglehub as kh\n",
    "import gym \n",
    "import gym_anytrading\n",
    "import matplotlib.pyplot as plt\n",
    "import os\n",
    "import pandas as pd\n",
    "import numpy as np\n",
    "from stable_baselines3 import PPO\n",
    "from gym_anytrading.envs import StocksEnv\n",
    "from gym import spaces"
   ]
  },
  {
   "cell_type": "code",
   "execution_count": 96,
   "id": "8b64e91b-3f93-4328-842a-1ca0e0d03775",
   "metadata": {},
   "outputs": [
    {
     "name": "stdout",
     "output_type": "stream",
     "text": [
      "Warning: Looks like you're using an outdated `kagglehub` version, please consider updating (latest version: 0.3.8)\n",
      "Path to dataset files: /home/gabbycamm/.cache/kagglehub/datasets/sudalairajkumar/cryptocurrencypricehistory/versions/3\n"
     ]
    }
   ],
   "source": [
    "path = kh.dataset_download(\"sudalairajkumar/cryptocurrencypricehistory\")\n",
    "print(\"Path to dataset files:\", path)"
   ]
  },
  {
   "cell_type": "code",
   "execution_count": 97,
   "id": "12d4ab36-62c9-47ab-9182-ce33f0e18549",
   "metadata": {},
   "outputs": [],
   "source": [
    "df = pd.read_csv(os.path.join(path, 'coin_Bitcoin.csv'))"
   ]
  },
  {
   "cell_type": "code",
   "execution_count": 98,
   "id": "d0ce226c-2cc6-4fbb-bd17-4f9ce9c7826d",
   "metadata": {},
   "outputs": [],
   "source": [
    "df = df[['Open', 'High', 'Low', 'Close']]"
   ]
  },
  {
   "cell_type": "code",
   "execution_count": 99,
   "id": "703bf684-aed4-4244-a4a6-8ca0e7473535",
   "metadata": {},
   "outputs": [],
   "source": [
    "df = df.astype(float)"
   ]
  },
  {
   "cell_type": "code",
   "execution_count": 100,
   "id": "5acbb3e4-3622-4fa1-9c61-b4241b143b74",
   "metadata": {},
   "outputs": [],
   "source": [
    "df.dropna(inplace=True)"
   ]
  },
  {
   "cell_type": "code",
   "execution_count": 101,
   "id": "df53b11e-0870-40fb-a389-419e4874d1b7",
   "metadata": {},
   "outputs": [
    {
     "name": "stdout",
     "output_type": "stream",
     "text": [
      "         Open        High         Low       Close\n",
      "0  134.444000  147.488007  134.000000  144.539993\n",
      "1  144.000000  146.929993  134.050003  139.000000\n",
      "2  139.000000  139.889999  107.720001  116.989998\n",
      "3  116.379997  125.599998   92.281898  105.209999\n",
      "4  106.250000  108.127998   79.099998   97.750000\n"
     ]
    }
   ],
   "source": [
    "print(df.head())"
   ]
  },
  {
   "cell_type": "code",
   "execution_count": 102,
   "id": "6c904305-2037-415f-84c3-a07555a86cf3",
   "metadata": {},
   "outputs": [],
   "source": [
    "class CryptoTradingEnv():\n",
    "    #constructor: sets up trading environment\n",
    "    # initializes the market data, agent's balance, trading pos, obs&act spaces\n",
    "    def __init__(self, df, initial_balance=1000):\n",
    "        super(CryptoTradingEnv, self).__init__()\n",
    "\n",
    "        self.df = df\n",
    "        self.current_step =0\n",
    "\n",
    "        self.initial_balance = initial_balance\n",
    "        self.balance = initial_balance\n",
    "        self.position = 0\n",
    "        self.entry_price = 0\n",
    "\n",
    "        self.action_space = spaces.Discrete(3)\n",
    "        self.observation_space = spaces.Box(\n",
    "            low=-np.inf, high=np.inf, shape=(5,), dtype=np.float32\n",
    "        )\n",
    "\n",
    "    #resets environmemt at beginning of a new episode \n",
    "    def reset(self): \n",
    "        self.current_step = 0\n",
    "        self.balance = self.initial_balance \n",
    "        self.position = 0 \n",
    "        self.entry_price = 0\n",
    "        return self._get_observation()\n",
    "\n",
    "    #returns current state (features)\n",
    "    def _get_observation(self):\n",
    "        return np.array([\n",
    "            self.df.iloc[self.current_step]['Close'], \n",
    "            self.df.iloc[self.current_step]['Open'],\n",
    "            self.df.iloc[self.current_step]['High'], \n",
    "            self.df.iloc[self.current_step]['Low'],\n",
    "            self.position\n",
    "        ], dtype=np.float32)\n",
    "\n",
    "    #executes the action and returns the new state, reward, done flag, & info\n",
    "    def step(self, action):\n",
    "        global reward\n",
    "        \n",
    "        done = False\n",
    "        current_price = self.df.iloc[self.current_step]['Close']\n",
    "\n",
    "        #execute actions\n",
    "        if action ==1: # Buy\n",
    "            if self.position ==0: #ENTER TRADE DO SOMETHING HERE!?!?!??!\n",
    "                self.position = 1\n",
    "                self.entry_price = current_price\n",
    "        elif action ==2:\n",
    "            if self.position ==1: # sell\n",
    "                reward = current_price - self.entry_price #prof or loss\n",
    "                self.balance += reward\n",
    "                self.position = 0\n",
    "            else:\n",
    "                reward = 0\n",
    "                \n",
    "        else: \n",
    "            reward = 0 # Hold\n",
    "\n",
    "        self.current_step +=1\n",
    "        if self.current_step >= len(self.df)-1:\n",
    "            done = True\n",
    "        return self._get_observation(), reward, done, {}\n",
    "\n",
    "        \n",
    "    def render(self): \n",
    "        print(f\"Step: {self.current_step}, Balance: {self.balance}, Position: {self.position}\")\n",
    "        \n",
    "        "
   ]
  },
  {
   "cell_type": "code",
   "execution_count": 93,
   "id": "4446f47f-fed6-4fd1-a1d6-e6239303d228",
   "metadata": {},
   "outputs": [],
   "source": [
    "env = CryptoTradingEnv(df)"
   ]
  },
  {
   "cell_type": "code",
   "execution_count": 94,
   "id": "19890ab0-9d95-44bc-9dad-61b5148c26de",
   "metadata": {},
   "outputs": [
    {
     "name": "stdout",
     "output_type": "stream",
     "text": [
      "Step: 1, Balance: 1000, Position: 0\n",
      "Step: 2, Balance: 1000, Position: 1\n",
      "Step: 3, Balance: 977.9899978637695, Position: 0\n",
      "Step: 4, Balance: 977.9899978637695, Position: 1\n",
      "Step: 5, Balance: 977.9899978637695, Position: 1\n",
      "Step: 6, Balance: 977.9899978637695, Position: 1\n",
      "Step: 7, Balance: 977.9899978637695, Position: 1\n",
      "Step: 8, Balance: 977.9899978637695, Position: 1\n",
      "Step: 9, Balance: 977.9899978637695, Position: 1\n",
      "Step: 10, Balance: 986.3460006713867, Position: 0\n"
     ]
    }
   ],
   "source": [
    "obs = env.reset()\n",
    "\n",
    "for _ in range(10):\n",
    "    action = env.action_space.sample()\n",
    "    obs, reward, done, _ = env.step(action)\n",
    "    env.render()\n",
    "    if done: \n",
    "        break "
   ]
  },
  {
   "cell_type": "code",
   "execution_count": null,
   "id": "0746528e-b31f-4c07-8054-d36e5989bfc8",
   "metadata": {},
   "outputs": [],
   "source": [
    "//exploratory data analysis remove outliers and null and find mean mode and all that"
   ]
  },
  {
   "cell_type": "code",
   "execution_count": null,
   "id": "9285c3db-b839-4f9b-a9f9-cbde4646804c",
   "metadata": {},
   "outputs": [],
   "source": []
  }
 ],
 "metadata": {
  "kernelspec": {
   "display_name": "Python 3 (ipykernel)",
   "language": "python",
   "name": "python3"
  },
  "language_info": {
   "codemirror_mode": {
    "name": "ipython",
    "version": 3
   },
   "file_extension": ".py",
   "mimetype": "text/x-python",
   "name": "python",
   "nbconvert_exporter": "python",
   "pygments_lexer": "ipython3",
   "version": "3.8.20"
  }
 },
 "nbformat": 4,
 "nbformat_minor": 5
}
